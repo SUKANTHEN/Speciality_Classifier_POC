{
 "cells": [
  {
   "cell_type": "code",
   "execution_count": 3,
   "metadata": {},
   "outputs": [],
   "source": [
    "import pandas as pd\n",
    "\n",
    "from utils import KnowYourData"
   ]
  },
  {
   "cell_type": "code",
   "execution_count": 4,
   "metadata": {},
   "outputs": [
    {
     "data": {
      "text/plain": [
       "(14438, 2)"
      ]
     },
     "execution_count": 4,
     "metadata": {},
     "output_type": "execute_result"
    }
   ],
   "source": [
    "df = pd.read_excel(\"../db/data.xlsx\")\n",
    "df.shape"
   ]
  },
  {
   "cell_type": "code",
   "execution_count": 5,
   "metadata": {},
   "outputs": [
    {
     "data": {
      "text/plain": [
       "{'data_dimensions': (14438, 2), 'features_count': 2, 'sample_count': 14438}"
      ]
     },
     "execution_count": 5,
     "metadata": {},
     "output_type": "execute_result"
    }
   ],
   "source": [
    "data_quality_results = KnowYourData(df = df)\n",
    "res1 = data_quality_results.analyze_data()\n",
    "res1"
   ]
  },
  {
   "cell_type": "code",
   "execution_count": 6,
   "metadata": {},
   "outputs": [
    {
     "data": {
      "text/plain": [
       "{'numerical_features': ['Class'],\n",
       " 'count_of_numerical_features': 1,\n",
       " 'categorical_features': ['Notes'],\n",
       " 'count_of_categorical_features': 1}"
      ]
     },
     "execution_count": 6,
     "metadata": {},
     "output_type": "execute_result"
    }
   ],
   "source": [
    "res2 = data_quality_results.feature_analysis()\n",
    "res2"
   ]
  },
  {
   "cell_type": "code",
   "execution_count": 7,
   "metadata": {},
   "outputs": [
    {
     "data": {
      "text/plain": [
       "{'is_missing_value': 0,\n",
       " 'sum_of_missing_value': 0,\n",
       " 'missing_value_feature_wise': '{\"Class\":0,\"Notes\":0}'}"
      ]
     },
     "execution_count": 7,
     "metadata": {},
     "output_type": "execute_result"
    }
   ],
   "source": [
    "res3 = data_quality_results.missing_value_estimation()\n",
    "res3"
   ]
  },
  {
   "cell_type": "code",
   "execution_count": 8,
   "metadata": {},
   "outputs": [
    {
     "data": {
      "text/plain": [
       "{'is_missing_values': Class    0\n",
       " Notes    0\n",
       " dtype: int64,\n",
       " 'is_duplicates': 0}"
      ]
     },
     "execution_count": 8,
     "metadata": {},
     "output_type": "execute_result"
    }
   ],
   "source": [
    "res4 = data_quality_results.data_quality_analysis()\n",
    "res4"
   ]
  },
  {
   "cell_type": "markdown",
   "metadata": {},
   "source": [
    "**Inference**:\n",
    "\n",
    "* There is One numerical feature, `Class`, and one Categorical/textual feature `Notes`.\n",
    "* There are **No Missing Values**.\n",
    "* There are **No Duplicate records**.\n",
    "* There is clearly `Imbalance in data`.\n",
    "<br>\n",
    "\n",
    "* Class 5 / General Pathological function (4805 counts): Class 5 has the highest count, indicating that it is the most prevalent or frequently occurring class in the dataset.\n",
    "\n",
    "* Class 2 / Digestive System (1494 counts): Class 2 has the lowest count among all classes, indicating that it is the least frequently occurring class in the dataset."
   ]
  },
  {
   "cell_type": "code",
   "execution_count": null,
   "metadata": {},
   "outputs": [],
   "source": []
  }
 ],
 "metadata": {
  "kernelspec": {
   "display_name": "Python 3",
   "language": "python",
   "name": "python3"
  },
  "language_info": {
   "codemirror_mode": {
    "name": "ipython",
    "version": 3
   },
   "file_extension": ".py",
   "mimetype": "text/x-python",
   "name": "python",
   "nbconvert_exporter": "python",
   "pygments_lexer": "ipython3",
   "version": "3.10.4"
  },
  "orig_nbformat": 4
 },
 "nbformat": 4,
 "nbformat_minor": 2
}
