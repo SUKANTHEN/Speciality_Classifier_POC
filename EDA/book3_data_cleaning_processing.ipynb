{
 "cells": [
  {
   "cell_type": "code",
   "execution_count": 1,
   "metadata": {},
   "outputs": [],
   "source": [
    "import pandas as pd\n",
    "from sklearn.model_selection import train_test_split"
   ]
  },
  {
   "cell_type": "code",
   "execution_count": 3,
   "metadata": {},
   "outputs": [
    {
     "data": {
      "text/html": [
       "<div>\n",
       "<style scoped>\n",
       "    .dataframe tbody tr th:only-of-type {\n",
       "        vertical-align: middle;\n",
       "    }\n",
       "\n",
       "    .dataframe tbody tr th {\n",
       "        vertical-align: top;\n",
       "    }\n",
       "\n",
       "    .dataframe thead th {\n",
       "        text-align: right;\n",
       "    }\n",
       "</style>\n",
       "<table border=\"1\" class=\"dataframe\">\n",
       "  <thead>\n",
       "    <tr style=\"text-align: right;\">\n",
       "      <th></th>\n",
       "      <th>Class</th>\n",
       "      <th>Notes</th>\n",
       "    </tr>\n",
       "  </thead>\n",
       "  <tbody>\n",
       "    <tr>\n",
       "      <th>0</th>\n",
       "      <td>4</td>\n",
       "      <td>Catheterization laboratory events and hospital...</td>\n",
       "    </tr>\n",
       "    <tr>\n",
       "      <th>1</th>\n",
       "      <td>5</td>\n",
       "      <td>Renal abscess in children. Three cases of rena...</td>\n",
       "    </tr>\n",
       "    <tr>\n",
       "      <th>2</th>\n",
       "      <td>2</td>\n",
       "      <td>Hyperplastic polyps seen at sigmoidoscopy are ...</td>\n",
       "    </tr>\n",
       "  </tbody>\n",
       "</table>\n",
       "</div>"
      ],
      "text/plain": [
       "   Class                                              Notes\n",
       "0      4  Catheterization laboratory events and hospital...\n",
       "1      5  Renal abscess in children. Three cases of rena...\n",
       "2      2  Hyperplastic polyps seen at sigmoidoscopy are ..."
      ]
     },
     "execution_count": 3,
     "metadata": {},
     "output_type": "execute_result"
    }
   ],
   "source": [
    "df = pd.read_excel(\"../db/data.xlsx\")\n",
    "df.head(3)"
   ]
  },
  {
   "cell_type": "code",
   "execution_count": 4,
   "metadata": {},
   "outputs": [
    {
     "name": "stdout",
     "output_type": "stream",
     "text": [
      "Class Distribution in Train Set:\n",
      "1    0.219062\n",
      "2    0.103436\n",
      "3    0.133358\n",
      "4    0.211304\n",
      "5    0.332841\n",
      "Name: Class, dtype: float64\n",
      "\n",
      "Class Distribution in Test Set:\n",
      "1    0.219183\n",
      "2    0.103532\n",
      "3    0.133310\n",
      "4    0.211219\n",
      "5    0.332756\n",
      "Name: Class, dtype: float64\n",
      "\n",
      "Class Distribution in Validation Set:\n",
      "1    0.218837\n",
      "2    0.103878\n",
      "3    0.132964\n",
      "4    0.211911\n",
      "5    0.332410\n",
      "Name: Class, dtype: float64\n"
     ]
    }
   ],
   "source": [
    "\"\"\" \n",
    "1. We first separate the features (X) and the target variable (y).\n",
    "\n",
    "2. We use train_test_split twice to split the data into three subsets: train, test, and validation.\n",
    "   The stratify parameter is set to y to ensure that each subset maintains the same class distribution\n",
    "   as the original dataset.\n",
    "\n",
    "3. Split the data into train (75%), test (20%), and validation (5%) sets with stratified sampling.\n",
    "\"\"\"\n",
    "\n",
    "X = df.drop(columns=['Class'])  # Features\n",
    "y = df['Class']  # Target variable\n",
    "\n",
    "X_train, X_temp, y_train, y_temp = train_test_split(X, y, test_size=0.25, stratify=y, random_state=42)\n",
    "X_test, X_val, y_test, y_val = train_test_split(X_temp, y_temp, test_size=0.20, stratify=y_temp, random_state=42)\n",
    "\n",
    "\n",
    "train_distribution = y_train.value_counts(normalize=True).sort_index()\n",
    "test_distribution = y_test.value_counts(normalize=True).sort_index()\n",
    "val_distribution = y_val.value_counts(normalize=True).sort_index()\n",
    "\n",
    "print(\"Class Distribution in Train Set:\")\n",
    "print(train_distribution)\n",
    "\n",
    "print(\"\\nClass Distribution in Test Set:\")\n",
    "print(test_distribution)\n",
    "\n",
    "print(\"\\nClass Distribution in Validation Set:\")\n",
    "print(val_distribution)"
   ]
  },
  {
   "cell_type": "code",
   "execution_count": 8,
   "metadata": {},
   "outputs": [
    {
     "data": {
      "text/plain": [
       "((10828, 1), (2888, 1), (722, 1))"
      ]
     },
     "execution_count": 8,
     "metadata": {},
     "output_type": "execute_result"
    }
   ],
   "source": [
    "X_train.shape,X_test.shape,X_val.shape"
   ]
  },
  {
   "cell_type": "markdown",
   "metadata": {},
   "source": [
    "* Now, we have 10.8k records for training and 2.8k records for testing and 700 records for validation of ML models."
   ]
  },
  {
   "cell_type": "code",
   "execution_count": 9,
   "metadata": {},
   "outputs": [],
   "source": [
    "train_df = pd.concat([X_train, y_train], axis=1)\n",
    "test_df = pd.concat([X_test, y_test], axis=1)\n",
    "val_df = pd.concat([X_val, y_val], axis=1)\n",
    "\n",
    "# Define file paths for Excel export\n",
    "train_file = \"../db/train_data.xlsx\"\n",
    "test_file = \"../db/test_data.xlsx\"\n",
    "val_file = \"../db/validation_data.xlsx\"\n",
    "\n",
    "# Export DataFrames to Excel\n",
    "train_df.to_excel(train_file, index=False)\n",
    "test_df.to_excel(test_file, index=False)\n",
    "val_df.to_excel(val_file, index=False)"
   ]
  },
  {
   "cell_type": "code",
   "execution_count": null,
   "metadata": {},
   "outputs": [],
   "source": []
  }
 ],
 "metadata": {
  "kernelspec": {
   "display_name": "Python 3",
   "language": "python",
   "name": "python3"
  },
  "language_info": {
   "codemirror_mode": {
    "name": "ipython",
    "version": 3
   },
   "file_extension": ".py",
   "mimetype": "text/x-python",
   "name": "python",
   "nbconvert_exporter": "python",
   "pygments_lexer": "ipython3",
   "version": "3.10.4"
  },
  "orig_nbformat": 4
 },
 "nbformat": 4,
 "nbformat_minor": 2
}
